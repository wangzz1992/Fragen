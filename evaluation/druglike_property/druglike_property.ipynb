{
 "cells": [
  {
   "cell_type": "code",
   "execution_count": 2,
   "metadata": {},
   "outputs": [],
   "source": [
    "import os\n",
    "from scoring_func import compute_sa_score, obey_lipinski, get_logp\n",
    "from rdkit.Chem.QED import qed\n",
    "from rdkit.Chem.Descriptors import ExactMolWt\n",
    "from rdkit import Chem\n",
    "sdf_folder = '/home/dongxy/code/SurfGen-main/data/gen/train_2024_03_15__21_11_22'\n",
    "sa_scores = []\n",
    "lipinski_scores = []\n",
    "logp_values = []\n",
    "qed_values = []\n",
    "mol_weights = []"
   ]
  },
  {
   "cell_type": "code",
   "execution_count": 3,
   "metadata": {},
   "outputs": [],
   "source": [
    "for file_name in os.listdir(sdf_folder):\n",
    "    if file_name.endswith('.sdf'):\n",
    "        sdf_file = os.path.join(sdf_folder, file_name)\n",
    "        mol = Chem.MolFromMolFile(sdf_file)\n",
    "        sa_scores.append(compute_sa_score(mol))\n",
    "        lipinski_scores.append(obey_lipinski(mol))\n",
    "        logp_values.append(get_logp(mol))\n",
    "        qed_values.append(qed(mol))\n",
    "        mol_weights.append(ExactMolWt(mol))"
   ]
  },
  {
   "cell_type": "code",
   "execution_count": 4,
   "metadata": {},
   "outputs": [],
   "source": [
    "sa_average = sum(sa_scores) / len(sa_scores)\n",
    "lipinski_average = sum(lipinski_scores) / len(lipinski_scores)\n",
    "logp_average = sum(logp_values) / len(logp_values)\n",
    "qed_average = sum(qed_values) / len(qed_values)\n",
    "mol_weight_average = sum(mol_weights) / len(mol_weights)\n",
    "\n"
   ]
  },
  {
   "cell_type": "code",
   "execution_count": 5,
   "metadata": {},
   "outputs": [
    {
     "name": "stdout",
     "output_type": "stream",
     "text": [
      "SA Average: 0.8141176470588236\n",
      "Lipinski Average: 5.0\n",
      "LogP Average: 2.3678240866873073\n",
      "QED Average: 0.5816493717548509\n",
      "Mol Weight Average: 163.47161246910198\n"
     ]
    }
   ],
   "source": [
    "print('SA Average:', sa_average)\n",
    "print('Lipinski Average:', lipinski_average)\n",
    "print('LogP Average:', logp_average)\n",
    "print('QED Average:', qed_average)\n",
    "print('Mol Weight Average:', mol_weight_average)"
   ]
  }
 ],
 "metadata": {
  "kernelspec": {
   "display_name": "Python 3.8.13 ('SurfGen')",
   "language": "python",
   "name": "python3"
  },
  "language_info": {
   "codemirror_mode": {
    "name": "ipython",
    "version": 3
   },
   "file_extension": ".py",
   "mimetype": "text/x-python",
   "name": "python",
   "nbconvert_exporter": "python",
   "pygments_lexer": "ipython3",
   "version": "3.8.13"
  },
  "orig_nbformat": 4,
  "vscode": {
   "interpreter": {
    "hash": "58c8be33f25b1934ef57e2589968d87ff83eb50288ed379ce5e63e82eedc880a"
   }
  }
 },
 "nbformat": 4,
 "nbformat_minor": 2
}
