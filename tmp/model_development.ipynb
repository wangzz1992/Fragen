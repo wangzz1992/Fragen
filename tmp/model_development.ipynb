{
 "cells": [
  {
   "cell_type": "code",
   "execution_count": 1,
   "metadata": {},
   "outputs": [],
   "source": [
    "import os\n",
    "import shutil\n",
    "import argparse\n",
    "from tqdm.auto import tqdm\n",
    "import torch\n",
    "from torch.nn.utils import clip_grad_norm_\n",
    "# import torch_geometric\n",
    "# assert not torch_geometric.__version__.startswith('2'), 'Please use torch_geometric lower than version 2.0.0'\n",
    "from torch_geometric.loader import DataLoader\n",
    "\n",
    "# from models.surfgen import SurfGen\n",
    "from utils.datasets import *\n",
    "from utils.transforms import *\n",
    "from utils.misc import *\n",
    "from utils.train import *\n",
    "# from utils.datasets.surfdata import SurfGenDataset"
   ]
  },
  {
   "cell_type": "code",
   "execution_count": 2,
   "metadata": {},
   "outputs": [],
   "source": [
    "parser = argparse.ArgumentParser()\n",
    "parser.add_argument('--config', type=str, default='/home/haotian/Molecule_Generation/SurfGen_release/configs/train.yml')\n",
    "parser.add_argument('--device', type=str, default='gpu')\n",
    "parser.add_argument('--logdir', type=str, default='/home/haotian/Molecule_Generation/SurfGen_release/logs')\n",
    "args = parser.parse_args([])\n",
    "\n",
    "config = load_config(args.config)\n",
    "config_name = os.path.basename(args.config)[:os.path.basename(args.config).rfind('.')]\n",
    "seed_all(config.train.seed)\n",
    "log_dir = get_new_log_dir(args.logdir, prefix=config_name)\n",
    "ckpt_dir = os.path.join(log_dir, 'checkpoints')\n",
    "logger = get_logger('train', log_dir)\n",
    "# logger.info(args)\n",
    "# logger.info(config)"
   ]
  },
  {
   "cell_type": "code",
   "execution_count": 3,
   "metadata": {},
   "outputs": [],
   "source": [
    "protein_featurizer = FeaturizeProteinAtom()\n",
    "ligand_featurizer = FeaturizeLigandAtom()\n",
    "masking = get_mask(config.train.transform.mask)\n",
    "composer = AtomComposer(protein_featurizer.feature_dim, ligand_featurizer.feature_dim, config.model.encoder.knn)\n",
    "edge_sampler = EdgeSample(config.train.transform.edgesampler)\n",
    "cfg_ctr = config.train.transform.contrastive\n",
    "contrastive_sampler = ContrastiveSample(cfg_ctr.num_real, cfg_ctr.num_fake, cfg_ctr.pos_real_std, cfg_ctr.pos_fake_std, config.model.field.knn)\n",
    "transform = Compose([\n",
    "    RefineData(),\n",
    "    LigandCountNeighbors(),\n",
    "    protein_featurizer,\n",
    "    ligand_featurizer,\n",
    "    masking,\n",
    "    composer,\n",
    "\n",
    "    FocalBuilder(),\n",
    "    edge_sampler,\n",
    "    contrastive_sampler,\n",
    "])\n",
    "\n",
    "dataset, subsets = get_dataset(\n",
    "    config = config.dataset,\n",
    "    transform = transform,\n",
    ")"
   ]
  },
  {
   "cell_type": "markdown",
   "metadata": {},
   "source": [
    "### dataloading"
   ]
  },
  {
   "cell_type": "code",
   "execution_count": 4,
   "metadata": {},
   "outputs": [
    {
     "data": {
      "text/plain": [
       "<torch.utils.data.dataset.Subset at 0x7fdd55c887c0>"
      ]
     },
     "execution_count": 4,
     "metadata": {},
     "output_type": "execute_result"
    }
   ],
   "source": [
    "subsets['train']"
   ]
  },
  {
   "cell_type": "code",
   "execution_count": 5,
   "metadata": {},
   "outputs": [],
   "source": [
    "from utils.surface import geodesic_matrix, dst2knnedge, read_ply_geom\n",
    "from torch_geometric.transforms import FaceToEdge"
   ]
  },
  {
   "cell_type": "code",
   "execution_count": 6,
   "metadata": {},
   "outputs": [],
   "source": [
    "surf_base = '/home/haotian/Molecule_Generation/SurfGen/data/crossdock2020_surface_8'"
   ]
  },
  {
   "cell_type": "code",
   "execution_count": 7,
   "metadata": {},
   "outputs": [],
   "source": [
    "data = dataset[0]"
   ]
  },
  {
   "cell_type": "code",
   "execution_count": 8,
   "metadata": {},
   "outputs": [],
   "source": [
    "surf_file = osp.join(surf_base,data.protein_filename[:-6]+'_8.0_res_1.5.ply')\n",
    "data_tmp = read_ply_geom(surf_file,read_face=True)\n",
    "data_tmp = FaceToEdge()(data_tmp)\n",
    "gds_mat = geodesic_matrix(data_tmp.pos,data_tmp.edge_index)\n",
    "\n",
    "data.gds_mat = gds_mat\n",
    "gds_knn_edge_index, gds_knn_edge_dist = dst2knnedge(data.gds_mat, num_knn=24)"
   ]
  },
  {
   "cell_type": "code",
   "execution_count": 9,
   "metadata": {},
   "outputs": [],
   "source": [
    "def gds_edge_process(tri_edge_index,gds_knn_edge_index,num_nodes):\n",
    "    id_tri_edge = tri_edge_index[0] * num_nodes + tri_edge_index[1]\n",
    "    id_gds_knn_edge = gds_knn_edge_index[0] * num_nodes + gds_knn_edge_index[1]\n",
    "    idx_edge = [torch.nonzero(id_gds_knn_edge == id_) for id_ in id_tri_edge]\n",
    "    idx_edge = torch.tensor([a.squeeze() if len(a) > 0 else torch.tensor(-1) for a in idx_edge], dtype=torch.long)\n",
    "    compose_gds_edge_type = torch.zeros(len(gds_knn_edge_index[0]), dtype=torch.long) \n",
    "    compose_gds_edge_type[idx_edge[idx_edge>=0]] = torch.ones_like(idx_edge[idx_edge>=0])\n",
    "    gds_edge_sca = F.one_hot(compose_gds_edge_type)\n",
    "    return gds_edge_sca"
   ]
  },
  {
   "cell_type": "code",
   "execution_count": 10,
   "metadata": {},
   "outputs": [
    {
     "data": {
      "text/plain": [
       "ProteinLigandData(\n",
       "  protein_feature=[176, 4],\n",
       "  protein_pos=[176, 3],\n",
       "  ligand_element=[21],\n",
       "  ligand_pos=[21, 3],\n",
       "  ligand_bond_index=[2, 48],\n",
       "  ligand_bond_type=[48],\n",
       "  ligand_center_of_mass=[3],\n",
       "  ligand_atom_feature=[21, 8],\n",
       "  ligand_nbh_list={\n",
       "    0=[3],\n",
       "    1=[2],\n",
       "    2=[3],\n",
       "    3=[2],\n",
       "    4=[2],\n",
       "    5=[3],\n",
       "    6=[2],\n",
       "    7=[1],\n",
       "    8=[3],\n",
       "    9=[3],\n",
       "    10=[3],\n",
       "    11=[2],\n",
       "    12=[2],\n",
       "    13=[3],\n",
       "    14=[2],\n",
       "    15=[1],\n",
       "    16=[2],\n",
       "    17=[2],\n",
       "    18=[2],\n",
       "    19=[3],\n",
       "    20=[2]\n",
       "  },\n",
       "  protein_filename='1B57_HUMAN_25_300_0/5u98_D_rec_5u98_1kx_lig_tt_min_0_pocket10.pdb',\n",
       "  ligand_filename='1B57_HUMAN_25_300_0/5u98_D_rec_5u98_1kx_lig_tt_min_0.sdf',\n",
       "  id=0,\n",
       "  ligand_num_neighbors=[21],\n",
       "  ligand_atom_valence=[21],\n",
       "  ligand_atom_num_bonds=[21, 3],\n",
       "  protein_surf_feature=[176, 5],\n",
       "  ligand_atom_feature_full=[21, 13],\n",
       "  context_idx=[8],\n",
       "  masked_idx=[13],\n",
       "  ligand_masked_element=[13],\n",
       "  ligand_masked_pos=[13, 3],\n",
       "  ligand_context_element=[8],\n",
       "  ligand_context_feature_full=[8, 13],\n",
       "  ligand_context_pos=[8, 3],\n",
       "  ligand_context_bond_index=[2, 16],\n",
       "  ligand_context_bond_type=[16],\n",
       "  ligand_context_num_neighbors=[8],\n",
       "  ligand_context_valence=[8],\n",
       "  ligand_context_num_bonds=[8, 3],\n",
       "  ligand_frontier=[8],\n",
       "  compose_pos=[184, 3],\n",
       "  compose_feature=[184, 13],\n",
       "  idx_ligand_ctx_in_compose=[8],\n",
       "  idx_protein_in_compose=[176],\n",
       "  compose_knn_edge_index=[2, 8832],\n",
       "  compose_knn_edge_type=[8832],\n",
       "  compose_knn_edge_feature=[8832, 4],\n",
       "  idx_generated_in_ligand_masked=[2],\n",
       "  pos_generate=[2, 3],\n",
       "  idx_focal_in_compose=[2],\n",
       "  idx_protein_all_mask=[0],\n",
       "  y_protein_frontier=[0],\n",
       "  mask_ctx_edge_index_0=[57],\n",
       "  mask_ctx_edge_index_1=[57],\n",
       "  mask_ctx_edge_type=[57],\n",
       "  mask_compose_edge_index_0=[57],\n",
       "  mask_compose_edge_index_1=[57],\n",
       "  mask_compose_edge_type=[57],\n",
       "  pos_real=[20, 3],\n",
       "  element_real=[20],\n",
       "  cls_real=[20, 7],\n",
       "  real_ctx_edge_index_0=[160],\n",
       "  real_ctx_edge_index_1=[160],\n",
       "  real_ctx_edge_type=[160],\n",
       "  real_compose_edge_index_0=[160],\n",
       "  real_compose_edge_index_1=[160],\n",
       "  real_compose_edge_type=[160],\n",
       "  index_real_cps_edge_for_atten=[2, 1280],\n",
       "  tri_edge_index=[2, 1280],\n",
       "  tri_edge_feat=[1280, 5],\n",
       "  pos_fake=[20, 3],\n",
       "  real_compose_knn_edge_index_0=[640],\n",
       "  real_compose_knn_edge_index_1=[640],\n",
       "  fake_compose_knn_edge_index_0=[640],\n",
       "  fake_compose_knn_edge_index_1=[640],\n",
       "  gds_mat=[176, 176]\n",
       ")"
      ]
     },
     "execution_count": 10,
     "metadata": {},
     "output_type": "execute_result"
    }
   ],
   "source": [
    "data"
   ]
  },
  {
   "cell_type": "code",
   "execution_count": 11,
   "metadata": {},
   "outputs": [],
   "source": [
    "# basic -> besic+gds\n",
    "num_nodes = data.protein_feature.shape[0]\n",
    "dlny_edge_index = data_tmp.edge_index\n",
    "gds_edge_sca = gds_edge_process(dlny_edge_index, gds_knn_edge_index, num_nodes=num_nodes)\n",
    "\n",
    "data.dlny_edge_index = dlny_edge_index\n",
    "data.gds_edge_sca = gds_edge_sca \n",
    "data.gds_knn_edge_index = gds_knn_edge_index\n",
    "data.gds_dist = gds_knn_edge_dist"
   ]
  },
  {
   "cell_type": "markdown",
   "metadata": {},
   "source": [
    "## embedding atoms"
   ]
  },
  {
   "cell_type": "code",
   "execution_count": 12,
   "metadata": {},
   "outputs": [],
   "source": [
    "from models.embedding import  AtomEmbedding\n",
    "protein_atom_feature_dim = protein_featurizer.feature_dim   # 5\n",
    "ligand_atom_feature_dim = ligand_featurizer.feature_dim   # 13\n",
    "emb_dim = [256, 64]#[config.hidden_channels, config.hidden_channels_vec]\n",
    "protein_atom_emb = AtomEmbedding(protein_atom_feature_dim, 1, *emb_dim)\n",
    "ligand_atom_emb = AtomEmbedding(ligand_atom_feature_dim, 1, *emb_dim)"
   ]
  },
  {
   "cell_type": "code",
   "execution_count": 13,
   "metadata": {},
   "outputs": [],
   "source": [
    "from models.surfgen import embed_compose\n",
    "\n",
    "compose_feature = data.compose_feature\n",
    "compose_pos = data.compose_pos\n",
    "idx_ligand = data.idx_ligand_ctx_in_compose\n",
    "idx_protein = data.idx_protein_in_compose\n",
    "\n",
    "h_compose = embed_compose(compose_feature, compose_pos, idx_ligand, idx_protein,\n",
    "                                ligand_atom_emb, protein_atom_emb, emb_dim)\n",
    "# h_compose[0].shape = torch.Size([182, 256])\n",
    "# h_compose[1].shape = torch.Size([182, 64, 3])"
   ]
  },
  {
   "cell_type": "code",
   "execution_count": 14,
   "metadata": {},
   "outputs": [],
   "source": [
    "class EdgeMapping(nn.Module):\n",
    "    def __init__(self, edge_channels):\n",
    "        super().__init__()\n",
    "        self.nn = nn.Linear(in_features=1, out_features=edge_channels, bias=False)\n",
    "    \n",
    "    def forward(self, edge_vector):\n",
    "        edge_vector = edge_vector / (torch.norm(edge_vector, p=2, dim=1, keepdim=True)+1e-7)\n",
    "        expansion = self.nn(edge_vector.unsqueeze(-1)).transpose(1, -1)\n",
    "        return expansion"
   ]
  },
  {
   "cell_type": "code",
   "execution_count": 15,
   "metadata": {},
   "outputs": [],
   "source": [
    "from models.model_utils import  GaussianSmearing\n",
    "from models.invariant import GVPerceptronVN, GVLinear, VNLinear\n",
    "from math import  pi\n",
    "from torch_scatter import scatter_sum\n",
    "from models.interaction.geodesic import Geodesic_GNN\n",
    "from models.interaction.geoattn import Geoattn_GNN"
   ]
  },
  {
   "cell_type": "code",
   "execution_count": 16,
   "metadata": {},
   "outputs": [],
   "source": [
    "edge_index = data.gds_knn_edge_index\n",
    "pos = data.protein_pos\n",
    "edge_vector = pos[edge_index[0]] - pos[edge_index[1]]\n",
    "edge_feature = data.gds_edge_sca\n",
    "node_feats = [h_compose[0][data.idx_protein_in_compose], h_compose[1][data.idx_protein_in_compose]]\n",
    "gds_dist = data.gds_dist"
   ]
  },
  {
   "cell_type": "code",
   "execution_count": 17,
   "metadata": {},
   "outputs": [],
   "source": [
    "# detailed of representation learning \n",
    "layer1 = Geodesic_GNN()\n",
    "layer2 = Geodesic_GNN()\n",
    "out_sca, out_vec = layer1(node_feats, edge_feature, edge_vector, edge_index, gds_dist)\n",
    "out_sca, out_vec = layer2([out_sca, out_vec], edge_feature, edge_vector, edge_index, gds_dist)"
   ]
  },
  {
   "cell_type": "code",
   "execution_count": 18,
   "metadata": {},
   "outputs": [],
   "source": [
    "edge_dim = 64\n",
    "num_edge_types= 2\n",
    "cutoff = 10\n",
    "node_sca_dim=256\n",
    "node_vec_dim=64\n",
    "hid_dim = 128\n",
    "out_sca_dim = 256\n",
    "out_vec_dim = 64\n",
    "\n",
    "edge_expansion = EdgeMapping(edge_dim)\n",
    "distance_expansion = GaussianSmearing(stop=cutoff, num_gaussians=edge_dim - num_edge_types)\n",
    "\n",
    "node_mapper = GVLinear(node_sca_dim,node_vec_dim,node_sca_dim,node_vec_dim)\n",
    "edge_mapper = GVLinear(edge_dim,edge_dim,node_sca_dim,node_vec_dim)\n",
    "\n",
    "edge_sca_sca = nn.Linear(node_sca_dim, hid_dim)\n",
    "node_sca_sca = nn.Linear(node_sca_dim, hid_dim)\n",
    "\n",
    "edge_sca_vec = nn.Linear(node_sca_dim, hid_dim)\n",
    "node_sca_vec = nn.Linear(node_sca_dim, hid_dim)\n",
    "edge_vec_vec = VNLinear(node_vec_dim, hid_dim)\n",
    "node_vec_vec = VNLinear(node_vec_dim, hid_dim)\n",
    "\n",
    "msg_out = GVLinear(hid_dim, hid_dim, out_sca_dim, out_vec_dim)\n",
    "\n",
    "resi_connecter = GVLinear(node_sca_dim,node_vec_dim,node_sca_dim,node_vec_dim)\n",
    "aggr_out = GVLinear(node_sca_dim,node_vec_dim,node_sca_dim,node_vec_dim)"
   ]
  },
  {
   "cell_type": "markdown",
   "metadata": {},
   "source": [
    "### Geodesic GNN is performed on the protein nodes --2 layers\n",
    "### Geoattnn GNN is performed on the protein-lignad graphs -- 4layer"
   ]
  },
  {
   "cell_type": "code",
   "execution_count": 21,
   "metadata": {},
   "outputs": [],
   "source": [
    "# edge_fetures expansion (from original)\n",
    "edge_dist = torch.norm(edge_vector, dim=-1, p=2)\n",
    "edge_sca_feat = torch.cat([distance_expansion(edge_dist), edge_feature], dim=-1)\n",
    "edge_vec_feat = edge_expansion(edge_vector) "
   ]
  },
  {
   "cell_type": "code",
   "execution_count": 22,
   "metadata": {},
   "outputs": [],
   "source": [
    "## message passing\n",
    "# first mapping (message)\n",
    "edge_index_row = edge_index[0]\n",
    "node_sca_feats, node_vec_feats = node_mapper(node_feats)\n",
    "edge_sca_feat, edge_vec_feat = edge_mapper([edge_sca_feat, edge_vec_feat])\n",
    "node_sca_feats, node_vec_feats = node_sca_feats[edge_index_row], node_vec_feats[edge_index_row]\n",
    "# vec interacte with sca, edge interact with node\n",
    "coeff = 0.5 * (torch.cos(edge_dist * pi / cutoff) + 1.0)\n",
    "coeff = coeff * (edge_dist <= cutoff) * (edge_dist >= 0.0)\n",
    "# compute the scalar message\n",
    "msg_sca_emb = node_sca_sca(node_sca_feats) * edge_sca_sca(edge_sca_feat)\n",
    "msg_sca_emb = msg_sca_emb * coeff.view(-1,1)\n",
    "\n",
    "# compute the vector message\n",
    "msg_vec_emb1 = node_vec_vec(node_vec_feats) * edge_sca_vec(edge_sca_feat).unsqueeze(-1)\n",
    "msg_vec_emb2 = node_sca_vec(node_sca_feats).unsqueeze(-1) * edge_vec_vec(edge_vec_feat)\n",
    "msg_vec_emb = msg_vec_emb1 + msg_vec_emb2\n",
    "msg_vec_emb = msg_vec_emb * coeff.view(-1,1,1)\n",
    "\n",
    "msg_sca_emb, msg_vec_emb = msg_out([msg_sca_emb, msg_vec_emb])"
   ]
  },
  {
   "cell_type": "code",
   "execution_count": 23,
   "metadata": {},
   "outputs": [],
   "source": [
    "## aggregation\n",
    "aggr_msg_sca = scatter_sum(msg_sca_emb, edge_index_row, dim=0, dim_size=num_nodes)\n",
    "aggr_msg_vec = scatter_sum(msg_vec_emb, edge_index_row, dim=0, dim_size=num_nodes)\n",
    "resi_sca, resi_vec = resi_connecter(node_feats)\n",
    "out_sca = resi_sca + aggr_msg_sca\n",
    "out_vec = resi_vec + aggr_msg_vec\n",
    "out_sca, out_vec = aggr_out([out_sca, out_vec])"
   ]
  },
  {
   "cell_type": "code",
   "execution_count": null,
   "metadata": {},
   "outputs": [],
   "source": []
  },
  {
   "cell_type": "markdown",
   "metadata": {},
   "source": [
    "## Geoattn GNN"
   ]
  },
  {
   "cell_type": "markdown",
   "metadata": {},
   "source": [
    "### prepare mapped features"
   ]
  },
  {
   "cell_type": "code",
   "execution_count": 24,
   "metadata": {},
   "outputs": [],
   "source": [
    "from torch_scatter import scatter_softmax"
   ]
  },
  {
   "cell_type": "code",
   "execution_count": 25,
   "metadata": {},
   "outputs": [],
   "source": [
    "edge_dim = 64\n",
    "num_edge_types= 4\n",
    "cutoff = 10\n",
    "node_sca_dim=256\n",
    "node_vec_dim=64\n",
    "hid_dim = 128\n",
    "out_sca_dim = 256\n",
    "out_vec_dim = 64\n",
    "\n",
    "edge_expansion = EdgeMapping(edge_dim)\n",
    "distance_expansion = GaussianSmearing(stop=cutoff, num_gaussians=edge_dim - num_edge_types)\n",
    "\n",
    "node_mapper = GVLinear(node_sca_dim,node_vec_dim,node_sca_dim,node_vec_dim)\n",
    "edge_mapper = GVLinear(edge_dim,edge_dim,node_sca_dim,node_vec_dim)\n",
    "\n",
    "edge_net = nn.Linear(node_sca_dim, hid_dim)\n",
    "node_net = nn.Linear(node_sca_dim, hid_dim)\n",
    "\n",
    "edge_sca_net = nn.Linear(node_sca_dim, hid_dim)\n",
    "node_sca_net = nn.Linear(node_sca_dim, hid_dim)\n",
    "edge_vec_net = VNLinear(node_vec_dim, hid_dim)\n",
    "node_vec_net = VNLinear(node_vec_dim, hid_dim)\n",
    "\n",
    "\n",
    "sca_attn_net = nn.Linear(node_sca_dim*2+1, hid_dim)\n",
    "vec_attn_net = VNLinear(node_vec_dim, hid_dim)\n",
    "softmax = scatter_softmax  \n",
    "sigmoid = nn.Sigmoid()\n",
    "\n",
    "msg_out = GVLinear(hid_dim, hid_dim, out_sca_dim, out_vec_dim)\n",
    "\n",
    "resi_connecter = GVLinear(node_sca_dim,node_vec_dim,node_sca_dim,node_vec_dim)\n",
    "aggr_out = GVLinear(node_sca_dim,node_vec_dim,node_sca_dim,node_vec_dim)\n"
   ]
  },
  {
   "cell_type": "code",
   "execution_count": 26,
   "metadata": {},
   "outputs": [],
   "source": [
    "h_ligpkt_sca = torch.cat([h_compose[0][data.idx_ligand_ctx_in_compose], out_sca], dim=0)\n",
    "h_ligpkt_vec = torch.cat([h_compose[1][data.idx_ligand_ctx_in_compose], out_vec], dim=0)\n",
    "node_feats = [h_ligpkt_sca,h_ligpkt_vec]"
   ]
  },
  {
   "cell_type": "code",
   "execution_count": 27,
   "metadata": {},
   "outputs": [],
   "source": [
    "h_ligpkt_sca = torch.cat([h_compose[0][data.idx_ligand_ctx_in_compose], out_sca], dim=0)\n",
    "h_ligpkt_vec = torch.cat([h_compose[1][data.idx_ligand_ctx_in_compose], out_vec], dim=0)\n",
    "node_feats = [h_ligpkt_sca,h_ligpkt_vec]\n",
    "pos = data.compose_pos\n",
    "edge_index = data.compose_knn_edge_index\n",
    "edge_feature = data.compose_knn_edge_feature\n",
    "edge_vector = pos[edge_index[0]] - pos[edge_index[1]]\n",
    "\n",
    "layer4 = Geoattn_GNN()\n",
    "layer3 = Geoattn_GNN()\n",
    "out_sca, out_evc = layer3(node_feats, edge_feature, edge_vector, edge_index)\n",
    "out_sca, out_evc = layer4([out_sca, out_evc], edge_feature, edge_vector, edge_index)"
   ]
  },
  {
   "cell_type": "code",
   "execution_count": 28,
   "metadata": {},
   "outputs": [],
   "source": [
    "# edge_fetures expansion (from original)\n",
    "edge_dist = torch.norm(edge_vector, dim=-1, p=2)\n",
    "edge_sca_feat = torch.cat([distance_expansion(edge_dist), edge_feature], dim=-1)\n",
    "edge_vec_feat = edge_expansion(edge_vector) "
   ]
  },
  {
   "cell_type": "code",
   "execution_count": 29,
   "metadata": {},
   "outputs": [],
   "source": [
    "## message passing\n",
    "# first mapping (message)\n",
    "edge_index_row = edge_index[0]\n",
    "node_sca_feats, node_vec_feats = node_mapper(node_feats)\n",
    "edge_sca_feat, edge_vec_feat = edge_mapper([edge_sca_feat, edge_vec_feat])\n",
    "node_sca_feats, node_vec_feats = node_sca_feats[edge_index_row], node_vec_feats[edge_index_row]"
   ]
  },
  {
   "cell_type": "code",
   "execution_count": 30,
   "metadata": {},
   "outputs": [],
   "source": [
    "# compute the attention score \\alpha_ij and A_ij\n",
    "alpha_sca = torch.cat([node_sca_feats[edge_index[0]], node_sca_feats[edge_index[1]], edge_dist.unsqueeze(-1)], dim=-1)\n",
    "alpha_sca = sca_attn_net(alpha_sca)\n",
    "alpha_sca = softmax(alpha_sca,edge_index_row,dim=0)\n",
    "\n",
    "alpha_vec_hid = vec_attn_net(node_vec_feats)\n",
    "alpha_vec = (alpha_vec_hid[edge_index[0]] * alpha_vec_hid[edge_index[1]]).sum(-1).sum(-1)\n",
    "alpha_vec = sigmoid(alpha_vec)"
   ]
  },
  {
   "cell_type": "code",
   "execution_count": 31,
   "metadata": {},
   "outputs": [
    {
     "data": {
      "text/plain": [
       "torch.Size([8832, 128])"
      ]
     },
     "execution_count": 31,
     "metadata": {},
     "output_type": "execute_result"
    }
   ],
   "source": [
    "alpha_sca.shape"
   ]
  },
  {
   "cell_type": "code",
   "execution_count": 34,
   "metadata": {},
   "outputs": [],
   "source": [
    "# the scalar feats\n",
    "node_sca_feat =  node_net(node_sca_feats)[edge_index_row] * edge_net(edge_sca_feat) \n",
    "# the equivariant interaction between node feature and edge feature\n",
    "node_sca_hid = node_sca_net(node_sca_feats)[edge_index_row].unsqueeze(-1)\n",
    "edge_vec_hid = edge_vec_net(edge_vec_feat)\n",
    "node_vec_hid = node_vec_net(node_vec_feats)[edge_index_row]\n",
    "edge_sca_hid =  edge_sca_net(edge_sca_feat).unsqueeze(-1)"
   ]
  },
  {
   "cell_type": "code",
   "execution_count": 35,
   "metadata": {},
   "outputs": [],
   "source": [
    "coeff = 0.5 * (torch.cos(edge_dist * pi / cutoff) + 1.0)\n",
    "coeff = coeff * (edge_dist <= cutoff) * (edge_dist >= 0.0)"
   ]
  },
  {
   "cell_type": "code",
   "execution_count": 36,
   "metadata": {},
   "outputs": [
    {
     "data": {
      "text/plain": [
       "torch.Size([8832, 128])"
      ]
     },
     "execution_count": 36,
     "metadata": {},
     "output_type": "execute_result"
    }
   ],
   "source": [
    "node_sca_feat.shape"
   ]
  },
  {
   "cell_type": "code",
   "execution_count": 37,
   "metadata": {},
   "outputs": [
    {
     "data": {
      "text/plain": [
       "torch.Size([8832, 128])"
      ]
     },
     "execution_count": 37,
     "metadata": {},
     "output_type": "execute_result"
    }
   ],
   "source": [
    "alpha_sca.shape"
   ]
  },
  {
   "cell_type": "code",
   "execution_count": 40,
   "metadata": {},
   "outputs": [],
   "source": [
    "msg_sca = node_sca_feat * alpha_sca \n",
    "msg_vec = (node_sca_hid * edge_vec_hid + node_vec_hid*edge_sca_hid)*alpha_vec.unsqueeze(-1).unsqueeze(-1)"
   ]
  },
  {
   "cell_type": "code",
   "execution_count": 41,
   "metadata": {},
   "outputs": [],
   "source": [
    "msg_sca,msg_vec = msg_out([msg_sca,msg_vec])"
   ]
  },
  {
   "cell_type": "code",
   "execution_count": 42,
   "metadata": {},
   "outputs": [],
   "source": [
    "\n",
    "from models.interaction.geoattn import  Geoattn_GNN"
   ]
  },
  {
   "cell_type": "code",
   "execution_count": 45,
   "metadata": {},
   "outputs": [],
   "source": [
    "\n",
    "# vec interacte with sca, edge interact with node\n",
    "coeff = 0.5 * (torch.cos(edge_dist * pi / cutoff) + 1.0)\n",
    "coeff = coeff * (edge_dist <= cutoff) * (edge_dist >= 0.0)\n",
    "# compute the scalar message\n",
    "msg_sca_emb = node_sca_sca(node_sca_feats) * edge_sca_sca(edge_sca_feat)\n",
    "msg_sca_emb = msg_sca_emb * coeff.view(-1,1)\n",
    "\n",
    "# compute the vector message\n",
    "msg_vec_emb1 = node_vec_vec(node_vec_feats) * edge_sca_vec(edge_sca_feat).unsqueeze(-1)\n",
    "msg_vec_emb2 = node_sca_vec(node_sca_feats).unsqueeze(-1) * edge_vec_vec(edge_vec_feat)\n",
    "msg_vec_emb = msg_vec_emb1 + msg_vec_emb2\n",
    "msg_vec_emb = msg_vec_emb * coeff.view(-1,1,1)\n",
    "\n",
    "msg_sca_emb, msg_vec_emb = msg_out([msg_sca_emb, msg_vec_emb])"
   ]
  },
  {
   "cell_type": "code",
   "execution_count": 46,
   "metadata": {},
   "outputs": [
    {
     "ename": "RuntimeError",
     "evalue": "index 176 is out of bounds for dimension 0 with size 176",
     "output_type": "error",
     "traceback": [
      "\u001b[0;31m---------------------------------------------------------------------------\u001b[0m",
      "\u001b[0;31mRuntimeError\u001b[0m                              Traceback (most recent call last)",
      "Cell \u001b[0;32mIn[46], line 2\u001b[0m\n\u001b[1;32m      1\u001b[0m \u001b[38;5;66;03m## aggregation\u001b[39;00m\n\u001b[0;32m----> 2\u001b[0m aggr_msg_sca \u001b[38;5;241m=\u001b[39m \u001b[43mscatter_sum\u001b[49m\u001b[43m(\u001b[49m\u001b[43mmsg_sca\u001b[49m\u001b[43m,\u001b[49m\u001b[43m \u001b[49m\u001b[43medge_index_row\u001b[49m\u001b[43m,\u001b[49m\u001b[43m \u001b[49m\u001b[43mdim\u001b[49m\u001b[38;5;241;43m=\u001b[39;49m\u001b[38;5;241;43m0\u001b[39;49m\u001b[43m,\u001b[49m\u001b[43m \u001b[49m\u001b[43mdim_size\u001b[49m\u001b[38;5;241;43m=\u001b[39;49m\u001b[43mnum_nodes\u001b[49m\u001b[43m)\u001b[49m\n\u001b[1;32m      3\u001b[0m aggr_msg_vec \u001b[38;5;241m=\u001b[39m scatter_sum(msg_vec, edge_index_row, dim\u001b[38;5;241m=\u001b[39m\u001b[38;5;241m0\u001b[39m, dim_size\u001b[38;5;241m=\u001b[39mnum_nodes)\n\u001b[1;32m      4\u001b[0m resi_sca, resi_vec \u001b[38;5;241m=\u001b[39m resi_connecter(node_feats)\n",
      "File \u001b[0;32m~/software/miniconda3/envs/carbon/lib/python3.9/site-packages/torch_scatter/scatter.py:21\u001b[0m, in \u001b[0;36mscatter_sum\u001b[0;34m(src, index, dim, out, dim_size)\u001b[0m\n\u001b[1;32m     19\u001b[0m         size[dim] \u001b[39m=\u001b[39m \u001b[39mint\u001b[39m(index\u001b[39m.\u001b[39mmax()) \u001b[39m+\u001b[39m \u001b[39m1\u001b[39m\n\u001b[1;32m     20\u001b[0m     out \u001b[39m=\u001b[39m torch\u001b[39m.\u001b[39mzeros(size, dtype\u001b[39m=\u001b[39msrc\u001b[39m.\u001b[39mdtype, device\u001b[39m=\u001b[39msrc\u001b[39m.\u001b[39mdevice)\n\u001b[0;32m---> 21\u001b[0m     \u001b[39mreturn\u001b[39;00m out\u001b[39m.\u001b[39;49mscatter_add_(dim, index, src)\n\u001b[1;32m     22\u001b[0m \u001b[39melse\u001b[39;00m:\n\u001b[1;32m     23\u001b[0m     \u001b[39mreturn\u001b[39;00m out\u001b[39m.\u001b[39mscatter_add_(dim, index, src)\n",
      "\u001b[0;31mRuntimeError\u001b[0m: index 176 is out of bounds for dimension 0 with size 176"
     ]
    }
   ],
   "source": [
    "## aggregation\n",
    "aggr_msg_sca = scatter_sum(msg_sca, edge_index_row, dim=0, dim_size=num_nodes)\n",
    "aggr_msg_vec = scatter_sum(msg_vec, edge_index_row, dim=0, dim_size=num_nodes)\n",
    "resi_sca, resi_vec = resi_connecter(node_feats)\n",
    "out_sca = resi_sca + aggr_msg_sca\n",
    "out_vec = resi_vec + aggr_msg_vec\n",
    "out_sca, out_vec = aggr_out([out_sca, out_vec])"
   ]
  },
  {
   "cell_type": "markdown",
   "metadata": {},
   "source": [
    "## Interaction Module"
   ]
  },
  {
   "cell_type": "code",
   "execution_count": 29,
   "metadata": {},
   "outputs": [],
   "source": [
    "class InteractionModule(nn.Module):\n",
    "    def __init__(self, node_sca_dim=256, node_vec_dim=64, edge_dim=64,hid_dim=128,num_geodesic=2, \\\n",
    "        num_geoattn=4, k=24, cutoff=10.):\n",
    "\n",
    "        super().__init__()\n",
    "\n",
    "        self.node_sca_dim = node_sca_dim\n",
    "        self.node_vec_dim = node_vec_dim\n",
    "        self.edge_dim = edge_dim \n",
    "        self.hid_dim = hid_dim \n",
    "        self.num_geodesic = num_geodesic\n",
    "        self.num_geoattn = num_geoattn\n",
    "        self.k = k\n",
    "        self.cutoff = cutoff\n",
    "\n",
    "        self.interactions = ModuleList()\n",
    "        for _ in range(num_geodesic):\n",
    "            block = Geodesic_GNN(\n",
    "                node_sca_dim=node_sca_dim,\n",
    "                node_vec_dim=node_vec_dim,\n",
    "                hid_dim = hid_dim,\n",
    "                edge_dim = edge_dim,\n",
    "                num_edge_types=2, \n",
    "                out_sca_dim=node_sca_dim,\n",
    "                out_vec_dim=node_vec_dim,\n",
    "                cutoff=cutoff\n",
    "            )\n",
    "            self.interactions.append(block)\n",
    "\n",
    "        for _ in range(num_geoattn):\n",
    "            block = Geoattn_GNN(\n",
    "                node_sca_dim=node_sca_dim,\n",
    "                node_vec_dim=node_vec_dim,\n",
    "                hid_dim = hid_dim,\n",
    "                edge_dim = edge_dim,\n",
    "                num_edge_types=4, \n",
    "                out_sca_dim=node_sca_dim,\n",
    "                out_vec_dim=node_vec_dim,\n",
    "                cutoff=cutoff\n",
    "            )\n",
    "            self.interactions.append(block)\n",
    "\n",
    "    @property\n",
    "    def out_sca(self):\n",
    "        return self.hidden_channels[0]\n",
    "    \n",
    "    @property\n",
    "    def out_vec(self):\n",
    "        return self.hidden_channels[1]\n",
    "\n",
    "    def forward(self, node_attr, pos, idx_ligand, idx_surface, gds_edge_index, gds_edge_feature, gds_dis, geom_edge_index, geom_edge_feature):\n",
    "        \n",
    "        h_surface_sca = node_attr[0][idx_surface]\n",
    "        h_surface_vec = node_attr[1][idx_surface]\n",
    "        gds_edge_vec = pos[idx_protein][gds_knn_edge_index[0]]-pos[idx_protein][gds_knn_edge_index[1]]\n",
    "\n",
    "        for geodesic_block in self.interactions[:self.num_geodesic]:\n",
    "            delta_h = geodesic_block([h_surface_sca,h_surface_vec], gds_edge_feature, gds_edge_vec, gds_edge_index, gds_dis)\n",
    "            h_surface_sca = h_surface_sca + delta_h[0]\n",
    "            h_surface_vec = h_surface_vec + delta_h[1]\n",
    "\n",
    "        h_ligpkt_sca = torch.cat([node_attr[0][data.idx_ligand], h_surface_sca], dim=0)\n",
    "        h_ligpkt_vec = torch.cat([node_attr[1][data.idx_ligand], h_surface_vec], dim=0)\n",
    "        geom_edge_vec = pos[geom_edge_index[0]] - pos[geom_edge_index[1]]\n",
    "\n",
    "        for geoattn_block in self.interactions[self.num_geoattn:]:\n",
    "            delta_h = geoattn_block([h_ligpkt_sca,h_ligpkt_vec], geom_edge_feature, geom_edge_vec, geom_edge_index)\n",
    "            h_ligpkt_sca = h_ligpkt_sca + delta_h[0]\n",
    "            h_ligpkt_vec = h_ligpkt_vec + delta_h[1]\n",
    "\n",
    "        return [h_ligpkt_sca, h_ligpkt_vec]"
   ]
  },
  {
   "cell_type": "code",
   "execution_count": null,
   "metadata": {},
   "outputs": [],
   "source": []
  },
  {
   "cell_type": "code",
   "execution_count": null,
   "metadata": {},
   "outputs": [],
   "source": [
    "h_ligpkt_sca = torch.cat([h_compose[0][data.idx_ligand_ctx_in_compose], out_sca], dim=0)\n",
    "h_ligpkt_vec = torch.cat([h_compose[1][data.idx_ligand_ctx_in_compose], out_vec], dim=0)\n",
    "node_feats = [h_ligpkt_sca,h_ligpkt_vec]\n",
    "pos = data.compose_pos\n",
    "edge_index = data.compose_knn_edge_index\n",
    "edge_feature = data.compose_knn_edge_feature\n",
    "edge_vector = pos[edge_index[0]] - pos[edge_index[1]]\n",
    "\n",
    "layer4 = Geoattn_GNN()\n",
    "layer3 = Geoattn_GNN()\n",
    "out_sca, out_evc = layer3(node_feats, edge_feature, edge_vector, edge_index)\n",
    "out_sca, out_evc = layer4([out_sca, out_evc], edge_feature, edge_vector, edge_index)"
   ]
  },
  {
   "cell_type": "code",
   "execution_count": null,
   "metadata": {},
   "outputs": [],
   "source": [
    "out_sca, out_vec = layer1(node_feats, edge_feature, edge_vector, edge_index, gds_dist)\n",
    "out_sca, out_vec = layer2([out_sca, out_vec], edge_feature, edge_vector, edge_index, gds_dist)"
   ]
  }
 ],
 "metadata": {
  "kernelspec": {
   "display_name": "Python 3.9.15 ('carbon')",
   "language": "python",
   "name": "python3"
  },
  "language_info": {
   "codemirror_mode": {
    "name": "ipython",
    "version": 3
   },
   "file_extension": ".py",
   "mimetype": "text/x-python",
   "name": "python",
   "nbconvert_exporter": "python",
   "pygments_lexer": "ipython3",
   "version": "3.9.15"
  },
  "orig_nbformat": 4,
  "vscode": {
   "interpreter": {
    "hash": "8cb457098628399098f8244ea6d862b61e5b409c4fe20c91d3202c562013c713"
   }
  }
 },
 "nbformat": 4,
 "nbformat_minor": 2
}
