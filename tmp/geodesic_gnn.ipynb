{
 "cells": [
  {
   "cell_type": "code",
   "execution_count": 2,
   "metadata": {},
   "outputs": [],
   "source": [
    "import os\n",
    "import shutil\n",
    "import argparse\n",
    "from tqdm.auto import tqdm\n",
    "import torch\n",
    "from torch.nn.utils import clip_grad_norm_\n",
    "# import torch_geometric\n",
    "# assert not torch_geometric.__version__.startswith('2'), 'Please use torch_geometric lower than version 2.0.0'\n",
    "from torch_geometric.loader import DataLoader\n",
    "\n",
    "from models.surfgen import SurfGen\n",
    "from utils.datasets import *\n",
    "from utils.transforms import *\n",
    "from utils.misc import *\n",
    "from utils.train import *\n",
    "from utils.datasets.surfdata import SurfGenDataset\n",
    "from time import time\n",
    "from utils.train import get_model_loss\n"
   ]
  },
  {
   "cell_type": "code",
   "execution_count": 3,
   "metadata": {},
   "outputs": [
    {
     "name": "stderr",
     "output_type": "stream",
     "text": [
      "[2023-03-15 08:13:32,270::train::INFO] Namespace(config='/home/haotian/Molecule_Generation/SurfGen/configs/train_surf.yml', device='cpu', logdir='/home/haotian/Molecule_Generation/SurfGen/logs')\n",
      "[2023-03-15 08:13:32,270::train::INFO] {'model': {'vn': 'vn', 'hidden_channels': 256, 'hidden_channels_vec': 64, 'encoder': {'name': 'cftfm', 'hidden_channels': 256, 'hidden_channels_vec': 64, 'edge_channels': 64, 'key_channels': 128, 'num_heads': 4, 'num_interactions': 6, 'cutoff': 10.0, 'knn': 24}, 'field': {'name': 'classifier', 'num_filters': 128, 'num_filters_vec': 32, 'edge_channels': 64, 'num_heads': 4, 'cutoff': 10.0, 'knn': 24}, 'position': {'num_filters': 128, 'n_component': 3}}, 'train': {'save': True, 'seed': 2021, 'use_apex': False, 'batch_size': 16, 'num_workers': 16, 'pin_memory': True, 'max_iters': 500000, 'val_freq': 5000, 'pos_noise_std': 0.1, 'max_grad_norm': 100.0, 'resume_train': False, 'ckpt_name': 'None', 'start_epoch': 'None', 'optimizer': {'type': 'adam', 'lr': 0.0002, 'weight_decay': 0, 'beta1': 0.99, 'beta2': 0.999}, 'scheduler': {'type': 'plateau', 'factor': 0.6, 'patience': 8, 'min_lr': 1e-05}, 'transform': {'mask': {'type': 'mixed', 'min_ratio': 0.0, 'max_ratio': 1.1, 'min_num_masked': 1, 'min_num_unmasked': 0, 'p_random': 0.15, 'p_bfs': 0.6, 'p_invbfs': 0.25}, 'contrastive': {'num_real': 20, 'num_fake': 20, 'pos_real_std': 0.05, 'pos_fake_std': 2.0}, 'edgesampler': {'k': 8}}}, 'dataset': {'name': 'pl', 'path': '/home/haotian/Molecule_Generation/SurfGen/data/crossdocked_pocket10', 'split': '/home/haotian/Molecule_Generation/SurfGen/data/split_by_name.pt'}}\n"
     ]
    }
   ],
   "source": [
    "parser = argparse.ArgumentParser()\n",
    "parser.add_argument('--config', type=str, default='/home/haotian/molecules_confs/Protein_test/Pocket2Mol-main/configs/train.yml')\n",
    "parser.add_argument('--device', type=str, default='cpu')\n",
    "parser.add_argument('--logdir', type=str, default='/home/haotian/molecules_confs/Protein_test/Pocket2Mol-main/logs')\n",
    "args = parser.parse_args([])\n",
    "base_path = '/home/haotian/Molecule_Generation/SurfGen'\n",
    "args.config = os.path.join(base_path, 'configs/train_surf.yml')\n",
    "args.logdir = os.path.join(base_path, 'logs')\n",
    "config = load_config(args.config)\n",
    "config_name = os.path.basename(args.config)[:os.path.basename(args.config).rfind('.')]\n",
    "seed_all(config.train.seed)\n",
    "config.dataset.path = os.path.join(base_path, 'data/crossdocked_pocket10')\n",
    "config.dataset.split = os.path.join(base_path, 'data/split_by_name.pt')\n",
    "log_dir = get_new_log_dir(args.logdir, prefix=config_name)\n",
    "ckpt_dir = os.path.join(log_dir, 'checkpoints')\n",
    "os.makedirs(ckpt_dir, exist_ok=True)\n",
    "logger = get_logger('train', log_dir)\n",
    "logger.info(args)\n",
    "logger.info(config)"
   ]
  },
  {
   "cell_type": "code",
   "execution_count": 4,
   "metadata": {},
   "outputs": [],
   "source": [
    "protein_featurizer = FeaturizeProteinAtom()\n",
    "ligand_featurizer = FeaturizeLigandAtom()\n",
    "masking = get_mask(config.train.transform.mask)\n",
    "composer = AtomComposer(protein_featurizer.feature_dim, ligand_featurizer.feature_dim, config.model.encoder.knn)\n"
   ]
  },
  {
   "cell_type": "code",
   "execution_count": 5,
   "metadata": {},
   "outputs": [],
   "source": [
    "edge_sampler = EdgeSample(config.train.transform.edgesampler)\n",
    "cfg_ctr = config.train.transform.contrastive\n",
    "contrastive_sampler = ContrastiveSample(cfg_ctr.num_real, cfg_ctr.num_fake, cfg_ctr.pos_real_std, cfg_ctr.pos_fake_std, config.model.field.knn)\n",
    "transform = Compose([\n",
    "    RefineData(),\n",
    "    LigandCountNeighbors(),\n",
    "    protein_featurizer,\n",
    "    ligand_featurizer,\n",
    "    masking,\n",
    "    composer,\n",
    "\n",
    "    FocalBuilder(),\n",
    "    edge_sampler,\n",
    "    contrastive_sampler,\n",
    "])\n",
    "\n",
    "dataset, subsets = get_dataset(\n",
    "    config = config.dataset,\n",
    "    transform = transform,\n",
    ")\n",
    "dataset, subsets = get_dataset(\n",
    "    config = config.dataset,\n",
    "    transform = transform,\n",
    ")"
   ]
  },
  {
   "cell_type": "code",
   "execution_count": 12,
   "metadata": {},
   "outputs": [],
   "source": [
    "import networkx as nx\n",
    "from scipy.spatial import distance_matrix\n",
    "from utils.protein_ligand import parse_sdf_file\n",
    "from utils.surface import geodesic_matrix, read_ply_geom, dst2knn_graph\n",
    "from torch_geometric.transforms import FaceToEdge\n",
    "from torch_geometric.utils import geodesic_distance\n",
    "from torch_geometric.data import Data"
   ]
  },
  {
   "cell_type": "code",
   "execution_count": 172,
   "metadata": {},
   "outputs": [],
   "source": [
    "sdf_file = './covid_19/3cl_ligand.sdf'\n",
    "surf_file = './covid_19/3cl_pocket_8.0_res_1.5.ply'\n",
    "data = read_ply_geom(surf_file,read_face=True)\n",
    "data = FaceToEdge()(data)\n",
    "gds_mat = geodesic_matrix(data.pos,data.edge_index)\n",
    "data.gds_mat = gds_mat"
   ]
  },
  {
   "cell_type": "code",
   "execution_count": 212,
   "metadata": {},
   "outputs": [],
   "source": [
    "def dst2knnedge(dst_mat, num_knn=24, self_loop=False):\n",
    "    knn_edge_index_src = []\n",
    "    knn_edge_index_tgt = []\n",
    "    knn_edge_dist = []\n",
    "    num_nodes = dst_mat.shape[0]\n",
    "    for node_idx in range(num_nodes):\n",
    "        knn_edge_index_src.extend([node_idx]*num_knn)\n",
    "        \n",
    "        if self_loop:\n",
    "            knn_edge_index_tgt.extend(np.argsort(dst_mat[node_idx])[:num_knn])\n",
    "            knn_edge_dist.extend(np.sort(dst_mat[node_idx])[:num_knn])\n",
    "        else:\n",
    "            knn_edge_index_tgt.extend(np.argsort(dst_mat[node_idx])[1:num_knn+1])\n",
    "            knn_edge_dist.extend(np.sort(dst_mat[node_idx])[1:num_knn+1])\n",
    "\n",
    "    return torch.tensor(np.array([knn_edge_index_src,knn_edge_index_tgt])), torch.tensor(np.array(knn_edge_dist,dtype=np.float32))"
   ]
  },
  {
   "cell_type": "code",
   "execution_count": 213,
   "metadata": {},
   "outputs": [],
   "source": [
    "gds_knn_edge_index, gds_knn_edge_dist = dst2knn_graph(data.gds_mat, num_knn=12)"
   ]
  },
  {
   "cell_type": "code",
   "execution_count": 214,
   "metadata": {},
   "outputs": [],
   "source": [
    "tri_edge_index = data.edge_index"
   ]
  },
  {
   "cell_type": "code",
   "execution_count": 253,
   "metadata": {},
   "outputs": [],
   "source": [
    "num_nodes = data.x.shape[0]"
   ]
  },
  {
   "cell_type": "code",
   "execution_count": 268,
   "metadata": {},
   "outputs": [],
   "source": [
    "def gds_edge_process(tri_edge_index,gds_knn_edge_index,num_nodes):\n",
    "    id_tri_edge = tri_edge_index[0] * num_nodes + tri_edge_index[1]\n",
    "    id_gds_knn_edge = gds_knn_edge_index[0] * num_nodes + gds_knn_edge_index[1]\n",
    "    idx_edge = [torch.nonzero(id_gds_knn_edge == id_) for id_ in id_tri_edge]\n",
    "    idx_edge = torch.tensor([a.squeeze() if len(a) > 0 else torch.tensor(-1) for a in idx_edge], dtype=torch.long)\n",
    "    compose_gds_edge_type = torch.zeros(len(gds_knn_edge_index[0]), dtype=torch.long) \n",
    "    compose_gds_edge_type[idx_edge[idx_edge>=0]] = torch.ones_like(idx_edge[idx_edge>=0])\n",
    "    gds_edge_sca = F.one_hot(compose_gds_edge_type)\n",
    "    return gds_edge_sca"
   ]
  },
  {
   "cell_type": "code",
   "execution_count": 269,
   "metadata": {},
   "outputs": [],
   "source": [
    "gds_edge_sca = gds_edge_process(tri_edge_index, gds_knn_edge_index, num_nodes=num_nodes)"
   ]
  },
  {
   "cell_type": "code",
   "execution_count": 270,
   "metadata": {},
   "outputs": [
    {
     "data": {
      "text/plain": [
       "tensor([[0, 1],\n",
       "        [0, 1],\n",
       "        [0, 1],\n",
       "        ...,\n",
       "        [1, 0],\n",
       "        [1, 0],\n",
       "        [1, 0]])"
      ]
     },
     "execution_count": 270,
     "metadata": {},
     "output_type": "execute_result"
    }
   ],
   "source": [
    "gds_edge_sca"
   ]
  },
  {
   "cell_type": "code",
   "execution_count": 133,
   "metadata": {},
   "outputs": [],
   "source": [
    "import torch.nn as nn"
   ]
  },
  {
   "cell_type": "code",
   "execution_count": 275,
   "metadata": {},
   "outputs": [],
   "source": [
    "from models.common import GaussianSmearing"
   ]
  },
  {
   "cell_type": "code",
   "execution_count": 304,
   "metadata": {},
   "outputs": [],
   "source": [
    "edge_channels = 6\n",
    "edge_hidden = 16\n",
    "num_edge_types = 2\n",
    "cutoff = 10.\n",
    "distance_expansion = GaussianSmearing(stop=cutoff, num_gaussians=edge_channels - num_edge_types)"
   ]
  },
  {
   "cell_type": "code",
   "execution_count": 284,
   "metadata": {},
   "outputs": [],
   "source": [
    "gds_edge_sca = gds_edge_sca.float()"
   ]
  },
  {
   "cell_type": "code",
   "execution_count": 309,
   "metadata": {},
   "outputs": [],
   "source": [
    "geo_edge_sca = torch.cat([distance_expansion(gds_knn_edge_dist), gds_edge_sca], dim=-1)"
   ]
  },
  {
   "cell_type": "code",
   "execution_count": 310,
   "metadata": {},
   "outputs": [
    {
     "data": {
      "text/plain": [
       "torch.Size([2388, 6])"
      ]
     },
     "execution_count": 310,
     "metadata": {},
     "output_type": "execute_result"
    }
   ],
   "source": [
    "geo_edge_sca.shape"
   ]
  },
  {
   "cell_type": "code",
   "execution_count": 315,
   "metadata": {},
   "outputs": [],
   "source": [
    "edge_SL = nn.Linear(in_features=edge_channels,out_features=edge_hidden)\n",
    "edge_sca_feat = edge_SL(geo_edge_sca)"
   ]
  },
  {
   "cell_type": "markdown",
   "metadata": {},
   "source": [
    "### vector mapping"
   ]
  },
  {
   "cell_type": "code",
   "execution_count": 329,
   "metadata": {},
   "outputs": [],
   "source": [
    "edge_vec = (data.pos[gds_knn_edge_index[0]] -data.pos[gds_knn_edge_index[1]]).T"
   ]
  },
  {
   "cell_type": "code",
   "execution_count": 403,
   "metadata": {},
   "outputs": [],
   "source": [
    "from models.invariant import VNLeakyReLU, VNLinear, GVPerceptronVN"
   ]
  },
  {
   "cell_type": "code",
   "execution_count": 327,
   "metadata": {},
   "outputs": [],
   "source": [
    "VN_node = VNLinear(in_channels=4, out_channels=8)\n",
    "VN_edge = VNLinear(in_channels=3, out_channels=6)"
   ]
  },
  {
   "cell_type": "code",
   "execution_count": 331,
   "metadata": {},
   "outputs": [
    {
     "data": {
      "text/plain": [
       "torch.Size([6, 2388])"
      ]
     },
     "execution_count": 331,
     "metadata": {},
     "output_type": "execute_result"
    }
   ],
   "source": [
    "VN_edge(edge_vec)"
   ]
  },
  {
   "cell_type": "code",
   "execution_count": 332,
   "metadata": {},
   "outputs": [],
   "source": [
    "from torch.nn import Module"
   ]
  },
  {
   "cell_type": "code",
   "execution_count": null,
   "metadata": {},
   "outputs": [],
   "source": [
    "# 初始node_sca dim=4, edge_sca_dim=6\n",
    "# node_vec_dim = 3, edge_vec_dim = 3 \n",
    "class Geodesic_Message(Module):\n",
    "    def __init__(self, node_sca_dim, node_vec_dim, edge_sca_dim, edge_vec_dim, out_sca, out_vec, cutoff=10.):\n",
    "        super().__init__()\n",
    "        edge_sca_sca = nn.Linear(edge_sca_dim, out_sca)\n",
    "        \n",
    "        edge_sca_vec = nn.Linear(edge_sca_dim, out_sca)\n",
    "        node_sca_vec = nn.Linear(node_sca_dim, out_sca)\n",
    "        edge_vec_vec = VNLinear(edge_vec_dim, out_vec)\n",
    "        node_vec_vec = VNLinear(node_vec_dim, out_vec)\n",
    "        \n",
    "        encoder = GVPerceptronVN()\n",
    "    \n",
    "    def forward(node_feats, edge_feats, edge_index):\n",
    "        "
   ]
  },
  {
   "cell_type": "code",
   "execution_count": 390,
   "metadata": {},
   "outputs": [],
   "source": [
    "node_sca_dim = 4\n",
    "node_vec_dim = 3\n",
    "edge_sca_dim = 6\n",
    "edge_vec_dim = 3\n",
    "out_sca = 16\n",
    "out_vec = 16\n",
    "node_dim = 4\n",
    "\n",
    "edge_sca_sca = nn.Linear(edge_sca_dim, node_dim)\n",
    "\n",
    "edge_sca_vec = nn.Linear(edge_sca_dim, out_sca)\n",
    "node_sca_vec = nn.Linear(node_sca_dim, out_sca)\n",
    "edge_vec_vec = VNLinear(edge_vec_dim, out_vec)\n",
    "node_vec_vec = VNLinear(node_vec_dim, out_vec)"
   ]
  },
  {
   "cell_type": "code",
   "execution_count": 422,
   "metadata": {},
   "outputs": [],
   "source": [
    "encoder = GVPerceptronVN(node_dim,out_vec,out_sca,out_sca)"
   ]
  },
  {
   "cell_type": "code",
   "execution_count": 385,
   "metadata": {},
   "outputs": [],
   "source": [
    "node_feats = (data.x, data.pos.reshape(-1,3,1)) \n",
    "edge_feats = (geo_edge_sca, edge_vec.reshape(-1,3,1))"
   ]
  },
  {
   "cell_type": "code",
   "execution_count": 340,
   "metadata": {},
   "outputs": [],
   "source": [
    "edge_index = gds_knn_edge_index"
   ]
  },
  {
   "cell_type": "code",
   "execution_count": 356,
   "metadata": {},
   "outputs": [],
   "source": [
    "edge_index_raw = edge_index[0]"
   ]
  },
  {
   "cell_type": "code",
   "execution_count": 414,
   "metadata": {},
   "outputs": [],
   "source": [
    "msg_sca_emb = node_feats[0][edge_index_raw] * edge_sca_sca(edge_feats[0])"
   ]
  },
  {
   "cell_type": "code",
   "execution_count": 396,
   "metadata": {},
   "outputs": [
    {
     "data": {
      "text/plain": [
       "torch.Size([2388, 16, 1])"
      ]
     },
     "execution_count": 396,
     "metadata": {},
     "output_type": "execute_result"
    }
   ],
   "source": [
    "edge_sca_vec(edge_feats[0]).unsqueeze(-1).shape"
   ]
  },
  {
   "cell_type": "code",
   "execution_count": 415,
   "metadata": {},
   "outputs": [],
   "source": [
    "msg_vec_emb1 = node_vec_vec(node_feats[1])[edge_index_raw] * edge_sca_vec(edge_feats[0]).unsqueeze(-1)\n",
    "msg_vec_emb2 = node_sca_vec(node_feats[0])[edge_index_raw].unsqueeze(-1) * edge_vec_vec(edge_feats[1])\n",
    "msg_vec_emb = msg_vec_emb1 + msg_vec_emb2"
   ]
  },
  {
   "cell_type": "code",
   "execution_count": 406,
   "metadata": {},
   "outputs": [],
   "source": [
    "from torch_scatter import scatter_sum"
   ]
  },
  {
   "cell_type": "code",
   "execution_count": 416,
   "metadata": {},
   "outputs": [],
   "source": [
    "num_nodes = node_feats[0].shape[0]\n",
    "aggr_msg_sca = scatter_sum(msg_sca_emb, edge_index_raw, dim=0, dim_size=num_nodes)"
   ]
  },
  {
   "cell_type": "code",
   "execution_count": 417,
   "metadata": {},
   "outputs": [],
   "source": [
    "aggr_msg_vec = scatter_sum(msg_vec_emb, edge_index_raw, dim=0, dim_size=num_nodes)"
   ]
  },
  {
   "cell_type": "code",
   "execution_count": 420,
   "metadata": {},
   "outputs": [
    {
     "data": {
      "text/plain": [
       "torch.Size([199, 4])"
      ]
     },
     "execution_count": 420,
     "metadata": {},
     "output_type": "execute_result"
    }
   ],
   "source": [
    "aggr_msg_sca.shape"
   ]
  },
  {
   "cell_type": "code",
   "execution_count": 419,
   "metadata": {},
   "outputs": [
    {
     "data": {
      "text/plain": [
       "torch.Size([199, 16, 1])"
      ]
     },
     "execution_count": 419,
     "metadata": {},
     "output_type": "execute_result"
    }
   ],
   "source": [
    "aggr_msg_vec.shape"
   ]
  },
  {
   "cell_type": "code",
   "execution_count": 424,
   "metadata": {},
   "outputs": [
    {
     "data": {
      "text/plain": [
       "tensor([[26.2894, -0.3607, 55.4214,  ..., 10.8450, 29.5320, 44.2554],\n",
       "        [29.4692, -0.4008, 47.9377,  ...,  8.7002, 22.9243, 34.3272],\n",
       "        [23.5407, -0.4631, 45.5106,  ..., 16.0130, 26.1938, 48.2630],\n",
       "        ...,\n",
       "        [26.4618, -0.3660, 59.3455,  ...,  6.3887, 29.1326, 34.0420],\n",
       "        [28.3861, -0.3764, 59.3625,  ...,  7.4963, 30.8525, 35.3171],\n",
       "        [26.9196, -0.3668, 59.2715,  ...,  6.5670, 29.5021, 34.1910]],\n",
       "       grad_fn=<LeakyReluBackward0>)"
      ]
     },
     "execution_count": 424,
     "metadata": {},
     "output_type": "execute_result"
    }
   ],
   "source": [
    "encoder((aggr_msg_sca,aggr_msg_vec))[0]"
   ]
  },
  {
   "cell_type": "code",
   "execution_count": 409,
   "metadata": {},
   "outputs": [
    {
     "data": {
      "text/plain": [
       "torch.Size([199, 16, 1])"
      ]
     },
     "execution_count": 409,
     "metadata": {},
     "output_type": "execute_result"
    }
   ],
   "source": [
    "aggr_msg_sca.shape"
   ]
  },
  {
   "cell_type": "code",
   "execution_count": 410,
   "metadata": {},
   "outputs": [
    {
     "data": {
      "text/plain": [
       "torch.Size([199, 16, 1])"
      ]
     },
     "execution_count": 410,
     "metadata": {},
     "output_type": "execute_result"
    }
   ],
   "source": [
    "aggr_msg_vec.shape"
   ]
  },
  {
   "cell_type": "code",
   "execution_count": 387,
   "metadata": {},
   "outputs": [
    {
     "data": {
      "text/plain": [
       "torch.Size([2388, 16, 1])"
      ]
     },
     "execution_count": 387,
     "metadata": {},
     "output_type": "execute_result"
    }
   ],
   "source": [
    "node_vec_vec(node_feats[1])[edge_index_raw].shape"
   ]
  },
  {
   "cell_type": "code",
   "execution_count": 389,
   "metadata": {},
   "outputs": [
    {
     "data": {
      "text/plain": [
       "torch.Size([2388, 32])"
      ]
     },
     "execution_count": 389,
     "metadata": {},
     "output_type": "execute_result"
    }
   ],
   "source": [
    "edge_sca_vec(edge_feats[0]).shape"
   ]
  },
  {
   "cell_type": "code",
   "execution_count": 375,
   "metadata": {},
   "outputs": [
    {
     "data": {
      "text/plain": [
       "torch.Size([2388, 4])"
      ]
     },
     "execution_count": 375,
     "metadata": {},
     "output_type": "execute_result"
    }
   ],
   "source": [
    "msg_sca_emb.shape"
   ]
  },
  {
   "cell_type": "code",
   "execution_count": 376,
   "metadata": {},
   "outputs": [
    {
     "data": {
      "text/plain": [
       "torch.Size([199, 1, 3])"
      ]
     },
     "execution_count": 376,
     "metadata": {},
     "output_type": "execute_result"
    }
   ],
   "source": [
    "node_feats[1].shape"
   ]
  },
  {
   "cell_type": "code",
   "execution_count": 377,
   "metadata": {},
   "outputs": [
    {
     "data": {
      "text/plain": [
       "VNLinear(\n",
       "  (map_to_feat): Linear(in_features=3, out_features=16, bias=True)\n",
       ")"
      ]
     },
     "execution_count": 377,
     "metadata": {},
     "output_type": "execute_result"
    }
   ],
   "source": [
    "node_vec_vec"
   ]
  },
  {
   "cell_type": "code",
   "execution_count": null,
   "metadata": {},
   "outputs": [],
   "source": []
  },
  {
   "cell_type": "code",
   "execution_count": 348,
   "metadata": {},
   "outputs": [
    {
     "data": {
      "text/plain": [
       "torch.Size([2388, 32])"
      ]
     },
     "execution_count": 348,
     "metadata": {},
     "output_type": "execute_result"
    }
   ],
   "source": [
    "edge_sca_sca(edge_feats[0]).shape"
   ]
  },
  {
   "cell_type": "code",
   "execution_count": 350,
   "metadata": {},
   "outputs": [
    {
     "data": {
      "text/plain": [
       "torch.Size([2388, 4])"
      ]
     },
     "execution_count": 350,
     "metadata": {},
     "output_type": "execute_result"
    }
   ],
   "source": [
    "node_feats[0][edge_index[0]].shape"
   ]
  },
  {
   "cell_type": "code",
   "execution_count": 352,
   "metadata": {},
   "outputs": [
    {
     "ename": "RuntimeError",
     "evalue": "The size of tensor a (4) must match the size of tensor b (32) at non-singleton dimension 1",
     "output_type": "error",
     "traceback": [
      "\u001b[0;31m---------------------------------------------------------------------------\u001b[0m",
      "\u001b[0;31mRuntimeError\u001b[0m                              Traceback (most recent call last)",
      "\u001b[1;32m/home/haotian/Molecule_Generation/SurfGen_release/geodesic_gnn.ipynb Cell 34\u001b[0m in \u001b[0;36m<cell line: 1>\u001b[0;34m()\u001b[0m\n\u001b[0;32m----> <a href='vscode-notebook-cell://ssh-remote%2B192.168.110.74/home/haotian/Molecule_Generation/SurfGen_release/geodesic_gnn.ipynb#ch0000142vscode-remote?line=0'>1</a>\u001b[0m node_feats[\u001b[39m0\u001b[39;49m][edge_index[\u001b[39m0\u001b[39;49m]] \u001b[39m+\u001b[39;49m edge_sca_sca(edge_feats[\u001b[39m0\u001b[39;49m])\n",
      "\u001b[0;31mRuntimeError\u001b[0m: The size of tensor a (4) must match the size of tensor b (32) at non-singleton dimension 1"
     ]
    }
   ],
   "source": [
    "node_feats[0][edge_index[0]]  edge_sca_sca(edge_feats[0])"
   ]
  },
  {
   "cell_type": "code",
   "execution_count": null,
   "metadata": {},
   "outputs": [],
   "source": [
    "for batch in val_loader:\n",
    "    break"
   ]
  },
  {
   "cell_type": "code",
   "execution_count": null,
   "metadata": {},
   "outputs": [],
   "source": [
    "surf_feature = batch.protein_surf_feature\n",
    "surf_pos = batch.protein_pos"
   ]
  },
  {
   "cell_type": "code",
   "execution_count": null,
   "metadata": {},
   "outputs": [
    {
     "name": "stdout",
     "output_type": "stream",
     "text": [
      "Num of parameters is 37.06M\n"
     ]
    }
   ],
   "source": [
    "model = SurfGen(\n",
    "    config.model, \n",
    "    num_classes = contrastive_sampler.num_elements,\n",
    "    num_bond_types = edge_sampler.num_bond_types,\n",
    "    protein_atom_feature_dim = protein_featurizer.feature_dim,\n",
    "    ligand_atom_feature_dim = ligand_featurizer.feature_dim,\n",
    ").to(args.device)\n",
    "print('Num of parameters is {0:.4}M'.format(np.sum([p.numel() for p in model.parameters()]) /100000 ))\n"
   ]
  },
  {
   "cell_type": "code",
   "execution_count": null,
   "metadata": {},
   "outputs": [],
   "source": [
    "def embed_compose(compose_feature, compose_pos, idx_ligand, idx_protein,\n",
    "                                      ligand_atom_emb, protein_atom_emb,\n",
    "                                      emb_dim):\n",
    "\n",
    "    h_ligand = ligand_atom_emb(compose_feature[idx_ligand], compose_pos[idx_ligand])\n",
    "    h_protein = protein_atom_emb(compose_feature[idx_protein], compose_pos[idx_protein])\n",
    "    \n",
    "    h_sca = torch.zeros([len(compose_pos), emb_dim[0]],).to(h_ligand[0])\n",
    "    h_vec = torch.zeros([len(compose_pos), emb_dim[1], 3],).to(h_ligand[1])\n",
    "    h_sca[idx_ligand], h_sca[idx_protein] = h_ligand[0], h_protein[0]\n",
    "    h_vec[idx_ligand], h_vec[idx_protein] = h_ligand[1], h_protein[1]\n",
    "    return [h_sca, h_vec]\n",
    "\n"
   ]
  },
  {
   "cell_type": "code",
   "execution_count": null,
   "metadata": {},
   "outputs": [],
   "source": [
    "compose_feature = batch.compose_feature.float()\n",
    "compose_pos = batch.compose_pos\n",
    "idx_ligand = batch.idx_ligand_ctx_in_compose\n",
    "idx_protein = batch.idx_protein_in_compose\n",
    "\n",
    "h_compose = embed_compose(compose_feature, compose_pos, idx_ligand, idx_protein,\n",
    "                                model.ligand_atom_emb, model.protein_atom_emb, model.emb_dim)"
   ]
  },
  {
   "cell_type": "code",
   "execution_count": null,
   "metadata": {},
   "outputs": [],
   "source": [
    "compose_knn_edge_index = batch.compose_knn_edge_index\n",
    "compose_knn_edge_feature = batch.compose_knn_edge_feature"
   ]
  },
  {
   "cell_type": "code",
   "execution_count": null,
   "metadata": {},
   "outputs": [
    {
     "data": {
      "text/plain": [
       "tensor([[   0,    0,    0,  ..., 3923, 3923, 3923],\n",
       "        [   2,  240,    1,  ..., 3800, 3785, 3872]])"
      ]
     },
     "execution_count": 27,
     "metadata": {},
     "output_type": "execute_result"
    }
   ],
   "source": [
    "compose_knn_edge_index"
   ]
  },
  {
   "cell_type": "code",
   "execution_count": null,
   "metadata": {},
   "outputs": [],
   "source": [
    "data = train_set[100]"
   ]
  },
  {
   "cell_type": "code",
   "execution_count": null,
   "metadata": {},
   "outputs": [],
   "source": [
    "pos = data.compose_pos\n",
    "dis_mat = distance_matrix(pos, pos)\n",
    "src, tgt = dst2knn_graph(dis_mat)"
   ]
  },
  {
   "cell_type": "code",
   "execution_count": null,
   "metadata": {},
   "outputs": [
    {
     "data": {
      "text/plain": [
       "tensor([True, True, True,  ..., True, True, True])"
      ]
     },
     "execution_count": 97,
     "metadata": {},
     "output_type": "execute_result"
    }
   ],
   "source": [
    "torch.tensor(tgt) == data.compose_knn_edge_index[1]"
   ]
  },
  {
   "cell_type": "code",
   "execution_count": null,
   "metadata": {},
   "outputs": [
    {
     "data": {
      "text/plain": [
       "tensor([[  0,   0,   0,  ..., 188, 188, 188],\n",
       "        [  6,  56,  10,  ..., 157,  54,   8]])"
      ]
     },
     "execution_count": 94,
     "metadata": {},
     "output_type": "execute_result"
    }
   ],
   "source": [
    "data.compose_knn_edge_index"
   ]
  },
  {
   "cell_type": "code",
   "execution_count": null,
   "metadata": {},
   "outputs": [
    {
     "data": {
      "text/plain": [
       "tensor([[0, 0, 1, 0],\n",
       "        [0, 1, 0, 0],\n",
       "        [0, 1, 0, 0],\n",
       "        ...,\n",
       "        [1, 0, 0, 0],\n",
       "        [1, 0, 0, 0],\n",
       "        [1, 0, 0, 0]])"
      ]
     },
     "execution_count": 36,
     "metadata": {},
     "output_type": "execute_result"
    }
   ],
   "source": [
    "data.compose_knn_edge_feature"
   ]
  },
  {
   "cell_type": "code",
   "execution_count": null,
   "metadata": {},
   "outputs": [],
   "source": [
    "compose_knn_edge_feature = torch.cat([\n",
    "    torch.ones([len(data.compose_knn_edge_index[0]), 1], dtype=torch.long),\n",
    "    torch.zeros([len(data.compose_knn_edge_index[0]), 3], dtype=torch.long),\n",
    "], dim=-1) "
   ]
  },
  {
   "cell_type": "code",
   "execution_count": null,
   "metadata": {},
   "outputs": [
    {
     "data": {
      "text/plain": [
       "tensor([[1, 0, 0, 0],\n",
       "        [1, 0, 0, 0],\n",
       "        [1, 0, 0, 0],\n",
       "        ...,\n",
       "        [1, 0, 0, 0],\n",
       "        [1, 0, 0, 0],\n",
       "        [1, 0, 0, 0]])"
      ]
     },
     "execution_count": 37,
     "metadata": {},
     "output_type": "execute_result"
    }
   ],
   "source": [
    "compose_knn_edge_feature"
   ]
  },
  {
   "cell_type": "code",
   "execution_count": null,
   "metadata": {},
   "outputs": [],
   "source": [
    "knn=24\n",
    "len_ligand_ctx = len(data.ligand_context_pos)\n",
    "len_compose = len_ligand_ctx + len(data.protein_pos)"
   ]
  },
  {
   "cell_type": "code",
   "execution_count": null,
   "metadata": {},
   "outputs": [
    {
     "data": {
      "text/plain": [
       "14"
      ]
     },
     "execution_count": 46,
     "metadata": {},
     "output_type": "execute_result"
    }
   ],
   "source": [
    "len_ligand_ctx"
   ]
  },
  {
   "cell_type": "code",
   "execution_count": null,
   "metadata": {},
   "outputs": [
    {
     "data": {
      "text/plain": [
       "188"
      ]
     },
     "execution_count": 45,
     "metadata": {},
     "output_type": "execute_result"
    }
   ],
   "source": [
    "len_compose"
   ]
  },
  {
   "cell_type": "code",
   "execution_count": null,
   "metadata": {},
   "outputs": [
    {
     "data": {
      "text/plain": [
       "torch.Size([2, 4512])"
      ]
     },
     "execution_count": 48,
     "metadata": {},
     "output_type": "execute_result"
    }
   ],
   "source": [
    "data.compose_knn_edge_index.shape"
   ]
  },
  {
   "cell_type": "code",
   "execution_count": null,
   "metadata": {},
   "outputs": [],
   "source": [
    "id_ligand_ctx_edge = data.ligand_context_bond_index[0] * len_compose + data.ligand_context_bond_index[1]"
   ]
  },
  {
   "cell_type": "code",
   "execution_count": null,
   "metadata": {},
   "outputs": [
    {
     "data": {
      "text/plain": [
       "tensor([ 564,    3,    2,    1,  376,  382, 1130, 1136, 1510, 1509,  948,  949,\n",
       "         941, 1697, 1702, 1703, 1889, 1887, 1326, 1320,  759,  753,  188,  193,\n",
       "         192, 2077, 2081, 2080, 2455, 2267])"
      ]
     },
     "execution_count": 59,
     "metadata": {},
     "output_type": "execute_result"
    }
   ],
   "source": [
    "id_ligand_ctx_edge"
   ]
  },
  {
   "cell_type": "code",
   "execution_count": null,
   "metadata": {},
   "outputs": [
    {
     "data": {
      "text/plain": [
       "tensor([   3,    2,    1,    6,    4,    5,   88,   74,   67,  182,    8,  150,\n",
       "         163,  128,   81,  118,  101,  160,  176,   91,  183,  159,    7,  153,\n",
       "         192,  193,  188,  191,  195,  190,  196,  316,  197,  194,  198,  347,\n",
       "         306,  341,  262,  365,  331,  338,  255,  348,  364,  269,  351,  251,\n",
       "         376,  382,  477,  379,  464,  384,  467,  377,  443,  403,  381,  552,\n",
       "         558,  397,  531,  559,  504,  450,  526,  539,  380,  495,  431,  457,\n",
       "         564,  727,  746,  645,  566,  565,  714,  652,  724,  568,  638,  682,\n",
       "         631,  570,  569,  717,  655,  692,  665,  572,  747,  723,  571,  707,\n",
       "         753,  759,  905,  895,  762,  757,  752,  911,  878,  870,  755,  761,\n",
       "         912,  929,  880,  790,  826,  833,  902,  754,  904,  760,  915,  805,\n",
       "         948,  941,  949, 1068,  946,  950,  944,  940,  951,  942,  947,  995,\n",
       "         975,  952, 1116,  953, 1117, 1099, 1067, 1003,  943, 1094,  977, 1014,\n",
       "        1130, 1136, 1149, 1155, 1304, 1128, 1133, 1229, 1183, 1129, 1195, 1247,\n",
       "        1219, 1270, 1256, 1163, 1283, 1311, 1216, 1165, 1131, 1137, 1202, 1191,\n",
       "        1320, 1326, 1442, 1469, 1317, 1325, 1459, 1475, 1354, 1468, 1348, 1321,\n",
       "        1369, 1493, 1503, 1434, 1444, 1316, 1327, 1476, 1408, 1324, 1319, 1470,\n",
       "        1509, 1510, 1559, 1506, 1680, 1505, 1539, 1513, 1525, 1632, 1504, 1646,\n",
       "        1623, 1515, 1516, 1517, 1531, 1541, 1571, 1563, 1530, 1605, 1567, 1508,\n",
       "        1702, 1697, 1703, 1699, 1704, 1705, 1700, 1693, 1696, 1820, 1879, 1727,\n",
       "        1819, 1869, 1809, 1747, 1851, 1846, 1698, 1844, 1692, 1751, 1868, 1755,\n",
       "        1887, 1889, 1884, 1885, 1891, 2067, 1881, 2032, 1912, 2006, 2039, 2057,\n",
       "        2033, 2023, 2008, 1892, 1893, 1997, 1918, 1933, 1972, 1888, 2007, 2034,\n",
       "        2080, 2081, 2077, 2078, 2073, 2102, 2205, 2127, 2185, 2103, 2123, 2076,\n",
       "        2195, 2087, 2230, 2255, 2094, 2247, 2222, 2196, 2075, 2239, 2101, 2069,\n",
       "        2267, 2269, 2265, 2373, 2290, 2289, 2311, 2282, 2261, 2264, 2396, 2410,\n",
       "        2393, 2315, 2359, 2266, 2293, 2275, 2316, 2291, 2387, 2363, 2443, 2297,\n",
       "        2455, 2503, 2479, 2463, 2456, 2571, 2478, 2499, 2453, 2606, 2615, 2581,\n",
       "        2623, 2449, 2452, 2470, 2454, 2572, 2620, 2586, 2621, 2619, 2584, 2561])"
      ]
     },
     "execution_count": 57,
     "metadata": {},
     "output_type": "execute_result"
    }
   ],
   "source": [
    "data.compose_knn_edge_index[0, :len_ligand_ctx*knn] * len_compose + data.compose_knn_edge_index[1, :len_ligand_ctx*knn]\n",
    "#前半段是ligand node(knn个)"
   ]
  },
  {
   "cell_type": "code",
   "execution_count": null,
   "metadata": {},
   "outputs": [],
   "source": [
    "id_compose_edge = data.compose_knn_edge_index[0, :len_ligand_ctx*knn] * len_compose + data.compose_knn_edge_index[1, :len_ligand_ctx*knn]\n",
    "id_ligand_ctx_edge = data.ligand_context_bond_index[0] * len_compose + data.ligand_context_bond_index[1]"
   ]
  },
  {
   "cell_type": "code",
   "execution_count": null,
   "metadata": {},
   "outputs": [
    {
     "data": {
      "text/plain": [
       "tensor([ 3,  0,  0,  0,  2,  2,  6,  6,  8,  8,  5,  5,  5,  9,  9,  9, 10, 10,\n",
       "         7,  7,  4,  4,  1,  1,  1, 11, 11, 11, 13, 12])"
      ]
     },
     "execution_count": 54,
     "metadata": {},
     "output_type": "execute_result"
    }
   ],
   "source": [
    "data.ligand_context_bond_index[0]"
   ]
  },
  {
   "cell_type": "code",
   "execution_count": null,
   "metadata": {},
   "outputs": [],
   "source": [
    "id_compose_edge = data.compose_knn_edge_index[0, :len_ligand_ctx*knn] * len_compose + data.compose_knn_edge_index[1, :len_ligand_ctx*knn]\n",
    "id_ligand_ctx_edge = data.ligand_context_bond_index[0] * len_compose + data.ligand_context_bond_index[1]\n",
    "idx_edge = [torch.nonzero(id_compose_edge == id_) for id_ in id_ligand_ctx_edge]"
   ]
  },
  {
   "cell_type": "code",
   "execution_count": null,
   "metadata": {},
   "outputs": [
    {
     "data": {
      "text/plain": [
       "tensor([[72]])"
      ]
     },
     "execution_count": 71,
     "metadata": {},
     "output_type": "execute_result"
    }
   ],
   "source": [
    "torch.nonzero(id_ligand_ctx_edge[0] == id_compose_edge)"
   ]
  },
  {
   "cell_type": "code",
   "execution_count": null,
   "metadata": {},
   "outputs": [],
   "source": [
    "idx_edge = torch.tensor([a.squeeze() if len(a) > 0 else torch.tensor(-1) for a in idx_edge], dtype=torch.long)"
   ]
  },
  {
   "cell_type": "code",
   "execution_count": null,
   "metadata": {},
   "outputs": [
    {
     "data": {
      "text/plain": [
       "tensor([ 72,   0,   1,   2,  48,  49, 144, 145, 193, 192, 120, 122, 121, 217,\n",
       "        216, 218, 241, 240, 169, 168,  97,  96,  26,  25,  24, 266, 265, 264,\n",
       "        312, 288])"
      ]
     },
     "execution_count": 73,
     "metadata": {},
     "output_type": "execute_result"
    }
   ],
   "source": [
    "idx_edge"
   ]
  },
  {
   "cell_type": "code",
   "execution_count": null,
   "metadata": {},
   "outputs": [
    {
     "data": {
      "text/plain": [
       "tensor([2, 2, 1, 1, 1, 2, 2, 1, 1, 1, 1, 1, 2, 1, 2, 1, 2, 1, 1, 2, 2, 1, 1, 2,\n",
       "        1, 1, 2, 2, 2, 2])"
      ]
     },
     "execution_count": 74,
     "metadata": {},
     "output_type": "execute_result"
    }
   ],
   "source": [
    "data.ligand_context_bond_type"
   ]
  },
  {
   "cell_type": "code",
   "execution_count": null,
   "metadata": {},
   "outputs": [],
   "source": [
    "data.compose_knn_edge_feature[idx_edge[idx_edge>=0]] = F.one_hot(data.ligand_context_bond_type[idx_edge>=0], num_classes=4) "
   ]
  },
  {
   "cell_type": "code",
   "execution_count": null,
   "metadata": {},
   "outputs": [
    {
     "data": {
      "text/plain": [
       "tensor([[0, 0, 1, 0],\n",
       "        [0, 1, 0, 0],\n",
       "        [0, 1, 0, 0],\n",
       "        ...,\n",
       "        [1, 0, 0, 0],\n",
       "        [1, 0, 0, 0],\n",
       "        [1, 0, 0, 0]])"
      ]
     },
     "execution_count": 75,
     "metadata": {},
     "output_type": "execute_result"
    }
   ],
   "source": [
    "data.compose_knn_edge_feature"
   ]
  }
 ],
 "metadata": {
  "kernelspec": {
   "display_name": "Python 3.9.15 ('carbon')",
   "language": "python",
   "name": "python3"
  },
  "language_info": {
   "codemirror_mode": {
    "name": "ipython",
    "version": 3
   },
   "file_extension": ".py",
   "mimetype": "text/x-python",
   "name": "python",
   "nbconvert_exporter": "python",
   "pygments_lexer": "ipython3",
   "version": "3.9.15"
  },
  "orig_nbformat": 4,
  "vscode": {
   "interpreter": {
    "hash": "8cb457098628399098f8244ea6d862b61e5b409c4fe20c91d3202c562013c713"
   }
  }
 },
 "nbformat": 4,
 "nbformat_minor": 2
}
